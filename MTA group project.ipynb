{
 "cells": [
  {
   "cell_type": "code",
   "execution_count": 12,
   "metadata": {},
   "outputs": [],
   "source": [
    "from __future__ import print_function, division\n",
    "import pandas as pd\n",
    "import numpy as np\n",
    "import matplotlib.pyplot as plt\n",
    "import matplotlib\n",
    "%matplotlib inline\n",
    "import seaborn as sns\n",
    "import datetime\n",
    "sns.set()\n",
    "\n",
    "#source: MTA files from http://web.mta.info/developers/turnstile.html\n",
    "\n",
    "def get_data(week_nums):\n",
    "    url = \"http://web.mta.info/developers/data/nyct/turnstile/turnstile_{}.txt\"\n",
    "    dfs = []\n",
    "    for week_num in week_nums:\n",
    "        file_url = url.format(week_num)\n",
    "        dfs.append(pd.read_csv(file_url))\n",
    "    return pd.concat(dfs) # handles duplicate headers\n",
    "        \n",
    "week_nums = [180407, 180414, 180421, 180428, 180505, 180512, \n",
    "             180519, 180526, 180602, 180609, 180616, 180623, 180630]\n"
   ]
  },
  {
   "cell_type": "code",
   "execution_count": 2,
   "metadata": {},
   "outputs": [
    {
     "data": {
      "text/html": [
       "<div>\n",
       "<style scoped>\n",
       "    .dataframe tbody tr th:only-of-type {\n",
       "        vertical-align: middle;\n",
       "    }\n",
       "\n",
       "    .dataframe tbody tr th {\n",
       "        vertical-align: top;\n",
       "    }\n",
       "\n",
       "    .dataframe thead th {\n",
       "        text-align: right;\n",
       "    }\n",
       "</style>\n",
       "<table border=\"1\" class=\"dataframe\">\n",
       "  <thead>\n",
       "    <tr style=\"text-align: right;\">\n",
       "      <th></th>\n",
       "      <th>C/A</th>\n",
       "      <th>UNIT</th>\n",
       "      <th>SCP</th>\n",
       "      <th>STATION</th>\n",
       "      <th>LINENAME</th>\n",
       "      <th>DIVISION</th>\n",
       "      <th>DATE</th>\n",
       "      <th>TIME</th>\n",
       "      <th>DESC</th>\n",
       "      <th>ENTRIES</th>\n",
       "      <th>EXITS</th>\n",
       "    </tr>\n",
       "  </thead>\n",
       "  <tbody>\n",
       "    <tr>\n",
       "      <th>0</th>\n",
       "      <td>A002</td>\n",
       "      <td>R051</td>\n",
       "      <td>02-00-00</td>\n",
       "      <td>59 ST</td>\n",
       "      <td>NQR456W</td>\n",
       "      <td>BMT</td>\n",
       "      <td>03/31/2018</td>\n",
       "      <td>00:00:00</td>\n",
       "      <td>REGULAR</td>\n",
       "      <td>6566463</td>\n",
       "      <td>2224050</td>\n",
       "    </tr>\n",
       "    <tr>\n",
       "      <th>1</th>\n",
       "      <td>A002</td>\n",
       "      <td>R051</td>\n",
       "      <td>02-00-00</td>\n",
       "      <td>59 ST</td>\n",
       "      <td>NQR456W</td>\n",
       "      <td>BMT</td>\n",
       "      <td>03/31/2018</td>\n",
       "      <td>04:00:00</td>\n",
       "      <td>REGULAR</td>\n",
       "      <td>6566470</td>\n",
       "      <td>2224053</td>\n",
       "    </tr>\n",
       "    <tr>\n",
       "      <th>2</th>\n",
       "      <td>A002</td>\n",
       "      <td>R051</td>\n",
       "      <td>02-00-00</td>\n",
       "      <td>59 ST</td>\n",
       "      <td>NQR456W</td>\n",
       "      <td>BMT</td>\n",
       "      <td>03/31/2018</td>\n",
       "      <td>08:00:00</td>\n",
       "      <td>REGULAR</td>\n",
       "      <td>6566470</td>\n",
       "      <td>2224053</td>\n",
       "    </tr>\n",
       "    <tr>\n",
       "      <th>3</th>\n",
       "      <td>A002</td>\n",
       "      <td>R051</td>\n",
       "      <td>02-00-00</td>\n",
       "      <td>59 ST</td>\n",
       "      <td>NQR456W</td>\n",
       "      <td>BMT</td>\n",
       "      <td>03/31/2018</td>\n",
       "      <td>12:00:00</td>\n",
       "      <td>REGULAR</td>\n",
       "      <td>6566470</td>\n",
       "      <td>2224055</td>\n",
       "    </tr>\n",
       "    <tr>\n",
       "      <th>4</th>\n",
       "      <td>A002</td>\n",
       "      <td>R051</td>\n",
       "      <td>02-00-00</td>\n",
       "      <td>59 ST</td>\n",
       "      <td>NQR456W</td>\n",
       "      <td>BMT</td>\n",
       "      <td>03/31/2018</td>\n",
       "      <td>16:00:00</td>\n",
       "      <td>REGULAR</td>\n",
       "      <td>6566470</td>\n",
       "      <td>2224055</td>\n",
       "    </tr>\n",
       "  </tbody>\n",
       "</table>\n",
       "</div>"
      ],
      "text/plain": [
       "    C/A  UNIT       SCP STATION LINENAME DIVISION        DATE      TIME  \\\n",
       "0  A002  R051  02-00-00   59 ST  NQR456W      BMT  03/31/2018  00:00:00   \n",
       "1  A002  R051  02-00-00   59 ST  NQR456W      BMT  03/31/2018  04:00:00   \n",
       "2  A002  R051  02-00-00   59 ST  NQR456W      BMT  03/31/2018  08:00:00   \n",
       "3  A002  R051  02-00-00   59 ST  NQR456W      BMT  03/31/2018  12:00:00   \n",
       "4  A002  R051  02-00-00   59 ST  NQR456W      BMT  03/31/2018  16:00:00   \n",
       "\n",
       "      DESC  ENTRIES  \\\n",
       "0  REGULAR  6566463   \n",
       "1  REGULAR  6566470   \n",
       "2  REGULAR  6566470   \n",
       "3  REGULAR  6566470   \n",
       "4  REGULAR  6566470   \n",
       "\n",
       "   EXITS                                                                 \n",
       "0                                            2224050                     \n",
       "1                                            2224053                     \n",
       "2                                            2224053                     \n",
       "3                                            2224055                     \n",
       "4                                            2224055                     "
      ]
     },
     "execution_count": 2,
     "metadata": {},
     "output_type": "execute_result"
    }
   ],
   "source": [
    "# Pull data in\n",
    "\n",
    "turnstiles_df = get_data(week_nums)\n",
    "turnstiles_df.head()\n",
    "                 "
   ]
  },
  {
   "cell_type": "code",
   "execution_count": 13,
   "metadata": {},
   "outputs": [],
   "source": [
    "turnstiles_df.to_csv('merged.csv', index = False)"
   ]
  },
  {
   "cell_type": "code",
   "execution_count": 14,
   "metadata": {},
   "outputs": [],
   "source": [
    "turnstiles_df = pd.read_csv('merged.csv')"
   ]
  },
  {
   "cell_type": "code",
   "execution_count": 15,
   "metadata": {},
   "outputs": [],
   "source": [
    "# Filter for just stations we're interested in\n",
    "\n",
    "mask = ((turnstiles_df['STATION'] == 'GRD CNTRL-42 ST') | (turnstiles_df['STATION'] == '42 ST-PORT AUTH') \\\n",
    "        |  (turnstiles_df['STATION'] == 'TIMES SQ-42 ST') | (turnstiles_df['STATION'] == '42 ST-BRYANT PK'))\n",
    "\n",
    "turnstiles_df = turnstiles_df[mask]"
   ]
  },
  {
   "cell_type": "code",
   "execution_count": 16,
   "metadata": {},
   "outputs": [],
   "source": [
    "# Strip the extra spaces in the column names\n",
    "\n",
    "turnstiles_df = turnstiles_df.rename(columns=lambda x: x.strip()) #strip spaces\n",
    "#or: turnstiles_df.columns = [column.strip() for column in turnstiles_df.columns]"
   ]
  },
  {
   "cell_type": "code",
   "execution_count": 17,
   "metadata": {},
   "outputs": [
    {
     "ename": "ValueError",
     "evalue": "time data '2018-03-31 00:00:0000:00:00' does not match format '%m/%d/%Y%H:%M:%S' (match)",
     "output_type": "error",
     "traceback": [
      "\u001b[0;31m---------------------------------------------------------------------------\u001b[0m",
      "\u001b[0;31mTypeError\u001b[0m                                 Traceback (most recent call last)",
      "\u001b[0;32m~/anaconda3/lib/python3.6/site-packages/pandas/core/tools/datetimes.py\u001b[0m in \u001b[0;36m_convert_listlike\u001b[0;34m(arg, box, format, name, tz)\u001b[0m\n\u001b[1;32m    302\u001b[0m             \u001b[0;32mtry\u001b[0m\u001b[0;34m:\u001b[0m\u001b[0;34m\u001b[0m\u001b[0m\n\u001b[0;32m--> 303\u001b[0;31m                 \u001b[0mvalues\u001b[0m\u001b[0;34m,\u001b[0m \u001b[0mtz\u001b[0m \u001b[0;34m=\u001b[0m \u001b[0mtslib\u001b[0m\u001b[0;34m.\u001b[0m\u001b[0mdatetime_to_datetime64\u001b[0m\u001b[0;34m(\u001b[0m\u001b[0marg\u001b[0m\u001b[0;34m)\u001b[0m\u001b[0;34m\u001b[0m\u001b[0m\n\u001b[0m\u001b[1;32m    304\u001b[0m                 \u001b[0;32mreturn\u001b[0m \u001b[0mDatetimeIndex\u001b[0m\u001b[0;34m.\u001b[0m\u001b[0m_simple_new\u001b[0m\u001b[0;34m(\u001b[0m\u001b[0mvalues\u001b[0m\u001b[0;34m,\u001b[0m \u001b[0mname\u001b[0m\u001b[0;34m=\u001b[0m\u001b[0mname\u001b[0m\u001b[0;34m,\u001b[0m \u001b[0mtz\u001b[0m\u001b[0;34m=\u001b[0m\u001b[0mtz\u001b[0m\u001b[0;34m)\u001b[0m\u001b[0;34m\u001b[0m\u001b[0m\n",
      "\u001b[0;32mpandas/_libs/tslib.pyx\u001b[0m in \u001b[0;36mpandas._libs.tslib.datetime_to_datetime64\u001b[0;34m()\u001b[0m\n",
      "\u001b[0;31mTypeError\u001b[0m: Unrecognized value type: <class 'str'>",
      "\nDuring handling of the above exception, another exception occurred:\n",
      "\u001b[0;31mValueError\u001b[0m                                Traceback (most recent call last)",
      "\u001b[0;32m<ipython-input-17-736e3551e121>\u001b[0m in \u001b[0;36m<module>\u001b[0;34m()\u001b[0m\n\u001b[1;32m      2\u001b[0m \u001b[0;34m\u001b[0m\u001b[0m\n\u001b[1;32m      3\u001b[0m \u001b[0mturnstiles_df\u001b[0m\u001b[0;34m[\u001b[0m\u001b[0;34m'DateTime'\u001b[0m\u001b[0;34m]\u001b[0m \u001b[0;34m=\u001b[0m \u001b[0mturnstiles_df\u001b[0m\u001b[0;34m[\u001b[0m\u001b[0;34m'DATE'\u001b[0m\u001b[0;34m]\u001b[0m \u001b[0;34m+\u001b[0m \u001b[0mturnstiles_df\u001b[0m\u001b[0;34m[\u001b[0m\u001b[0;34m'TIME'\u001b[0m\u001b[0;34m]\u001b[0m\u001b[0;34m\u001b[0m\u001b[0m\n\u001b[0;32m----> 4\u001b[0;31m \u001b[0mturnstiles_df\u001b[0m\u001b[0;34m[\u001b[0m\u001b[0;34m'DateTime'\u001b[0m\u001b[0;34m]\u001b[0m \u001b[0;34m=\u001b[0m \u001b[0mpd\u001b[0m\u001b[0;34m.\u001b[0m\u001b[0mto_datetime\u001b[0m\u001b[0;34m(\u001b[0m\u001b[0mturnstiles_df\u001b[0m\u001b[0;34m[\u001b[0m\u001b[0;34m'DateTime'\u001b[0m\u001b[0;34m]\u001b[0m\u001b[0;34m,\u001b[0m \u001b[0mformat\u001b[0m\u001b[0;34m=\u001b[0m\u001b[0;34m'%m/%d/%Y%H:%M:%S'\u001b[0m\u001b[0;34m)\u001b[0m\u001b[0;34m\u001b[0m\u001b[0m\n\u001b[0m",
      "\u001b[0;32m~/anaconda3/lib/python3.6/site-packages/pandas/core/tools/datetimes.py\u001b[0m in \u001b[0;36mto_datetime\u001b[0;34m(arg, errors, dayfirst, yearfirst, utc, box, format, exact, unit, infer_datetime_format, origin)\u001b[0m\n\u001b[1;32m    371\u001b[0m     \u001b[0;32melif\u001b[0m \u001b[0misinstance\u001b[0m\u001b[0;34m(\u001b[0m\u001b[0marg\u001b[0m\u001b[0;34m,\u001b[0m \u001b[0mABCSeries\u001b[0m\u001b[0;34m)\u001b[0m\u001b[0;34m:\u001b[0m\u001b[0;34m\u001b[0m\u001b[0m\n\u001b[1;32m    372\u001b[0m         \u001b[0;32mfrom\u001b[0m \u001b[0mpandas\u001b[0m \u001b[0;32mimport\u001b[0m \u001b[0mSeries\u001b[0m\u001b[0;34m\u001b[0m\u001b[0m\n\u001b[0;32m--> 373\u001b[0;31m         \u001b[0mvalues\u001b[0m \u001b[0;34m=\u001b[0m \u001b[0m_convert_listlike\u001b[0m\u001b[0;34m(\u001b[0m\u001b[0marg\u001b[0m\u001b[0;34m.\u001b[0m\u001b[0m_values\u001b[0m\u001b[0;34m,\u001b[0m \u001b[0;32mTrue\u001b[0m\u001b[0;34m,\u001b[0m \u001b[0mformat\u001b[0m\u001b[0;34m)\u001b[0m\u001b[0;34m\u001b[0m\u001b[0m\n\u001b[0m\u001b[1;32m    374\u001b[0m         \u001b[0mresult\u001b[0m \u001b[0;34m=\u001b[0m \u001b[0mSeries\u001b[0m\u001b[0;34m(\u001b[0m\u001b[0mvalues\u001b[0m\u001b[0;34m,\u001b[0m \u001b[0mindex\u001b[0m\u001b[0;34m=\u001b[0m\u001b[0marg\u001b[0m\u001b[0;34m.\u001b[0m\u001b[0mindex\u001b[0m\u001b[0;34m,\u001b[0m \u001b[0mname\u001b[0m\u001b[0;34m=\u001b[0m\u001b[0marg\u001b[0m\u001b[0;34m.\u001b[0m\u001b[0mname\u001b[0m\u001b[0;34m)\u001b[0m\u001b[0;34m\u001b[0m\u001b[0m\n\u001b[1;32m    375\u001b[0m     \u001b[0;32melif\u001b[0m \u001b[0misinstance\u001b[0m\u001b[0;34m(\u001b[0m\u001b[0marg\u001b[0m\u001b[0;34m,\u001b[0m \u001b[0;34m(\u001b[0m\u001b[0mABCDataFrame\u001b[0m\u001b[0;34m,\u001b[0m \u001b[0mMutableMapping\u001b[0m\u001b[0;34m)\u001b[0m\u001b[0;34m)\u001b[0m\u001b[0;34m:\u001b[0m\u001b[0;34m\u001b[0m\u001b[0m\n",
      "\u001b[0;32m~/anaconda3/lib/python3.6/site-packages/pandas/core/tools/datetimes.py\u001b[0m in \u001b[0;36m_convert_listlike\u001b[0;34m(arg, box, format, name, tz)\u001b[0m\n\u001b[1;32m    304\u001b[0m                 \u001b[0;32mreturn\u001b[0m \u001b[0mDatetimeIndex\u001b[0m\u001b[0;34m.\u001b[0m\u001b[0m_simple_new\u001b[0m\u001b[0;34m(\u001b[0m\u001b[0mvalues\u001b[0m\u001b[0;34m,\u001b[0m \u001b[0mname\u001b[0m\u001b[0;34m=\u001b[0m\u001b[0mname\u001b[0m\u001b[0;34m,\u001b[0m \u001b[0mtz\u001b[0m\u001b[0;34m=\u001b[0m\u001b[0mtz\u001b[0m\u001b[0;34m)\u001b[0m\u001b[0;34m\u001b[0m\u001b[0m\n\u001b[1;32m    305\u001b[0m             \u001b[0;32mexcept\u001b[0m \u001b[0;34m(\u001b[0m\u001b[0mValueError\u001b[0m\u001b[0;34m,\u001b[0m \u001b[0mTypeError\u001b[0m\u001b[0;34m)\u001b[0m\u001b[0;34m:\u001b[0m\u001b[0;34m\u001b[0m\u001b[0m\n\u001b[0;32m--> 306\u001b[0;31m                 \u001b[0;32mraise\u001b[0m \u001b[0me\u001b[0m\u001b[0;34m\u001b[0m\u001b[0m\n\u001b[0m\u001b[1;32m    307\u001b[0m \u001b[0;34m\u001b[0m\u001b[0m\n\u001b[1;32m    308\u001b[0m     \u001b[0;32mif\u001b[0m \u001b[0marg\u001b[0m \u001b[0;32mis\u001b[0m \u001b[0;32mNone\u001b[0m\u001b[0;34m:\u001b[0m\u001b[0;34m\u001b[0m\u001b[0m\n",
      "\u001b[0;32m~/anaconda3/lib/python3.6/site-packages/pandas/core/tools/datetimes.py\u001b[0m in \u001b[0;36m_convert_listlike\u001b[0;34m(arg, box, format, name, tz)\u001b[0m\n\u001b[1;32m    271\u001b[0m                     \u001b[0;32mtry\u001b[0m\u001b[0;34m:\u001b[0m\u001b[0;34m\u001b[0m\u001b[0m\n\u001b[1;32m    272\u001b[0m                         result = array_strptime(arg, format, exact=exact,\n\u001b[0;32m--> 273\u001b[0;31m                                                 errors=errors)\n\u001b[0m\u001b[1;32m    274\u001b[0m                     \u001b[0;32mexcept\u001b[0m \u001b[0mtslib\u001b[0m\u001b[0;34m.\u001b[0m\u001b[0mOutOfBoundsDatetime\u001b[0m\u001b[0;34m:\u001b[0m\u001b[0;34m\u001b[0m\u001b[0m\n\u001b[1;32m    275\u001b[0m                         \u001b[0;32mif\u001b[0m \u001b[0merrors\u001b[0m \u001b[0;34m==\u001b[0m \u001b[0;34m'raise'\u001b[0m\u001b[0;34m:\u001b[0m\u001b[0;34m\u001b[0m\u001b[0m\n",
      "\u001b[0;32mpandas/_libs/tslibs/strptime.pyx\u001b[0m in \u001b[0;36mpandas._libs.tslibs.strptime.array_strptime\u001b[0;34m()\u001b[0m\n",
      "\u001b[0;31mValueError\u001b[0m: time data '2018-03-31 00:00:0000:00:00' does not match format '%m/%d/%Y%H:%M:%S' (match)"
     ]
    }
   ],
   "source": [
    "#Create a new column that stores the date and time as a single pandas datetime object\n",
    "\n",
    "turnstiles_df['DateTime'] = turnstiles_df['DATE'] + turnstiles_df['TIME']\n",
    "turnstiles_df['DateTime'] = pd.to_datetime(turnstiles_df['DateTime'], format='%m/%d/%Y%H:%M:%S')"
   ]
  },
  {
   "cell_type": "code",
   "execution_count": 18,
   "metadata": {},
   "outputs": [],
   "source": [
    "# Create columns for week number and day of week\n",
    "\n",
    "turnstiles_df['DATE'] = pd.to_datetime(turnstiles_df['DATE'])\n",
    "turnstiles_df['weeknum'] = turnstiles_df['DATE'].dt.week\n",
    "turnstiles_df['daynum'] = turnstiles_df['DATE'].dt.dayofweek"
   ]
  },
  {
   "cell_type": "code",
   "execution_count": 19,
   "metadata": {},
   "outputs": [],
   "source": [
    "# Calculate actual value of passengers in each time window\n",
    "\n",
    "turnstiles_df = turnstiles_df.sort_values(by=['C/A','UNIT','SCP', 'STATION','DateTime'])\n",
    "turnstiles_df['Daily_Entries'] = turnstiles_df['ENTRIES'] - turnstiles_df['ENTRIES'].shift(1)\n",
    "turnstiles_df['Daily_Exits'] = turnstiles_df['EXITS'] - turnstiles_df['EXITS'].shift(1)"
   ]
  },
  {
   "cell_type": "code",
   "execution_count": 20,
   "metadata": {},
   "outputs": [],
   "source": [
    "# Get rid of negative values\n",
    "\n",
    "turnstiles_df['Daily_Entries_abs'] = turnstiles_df['Daily_Entries'].abs()\n",
    "turnstiles_df['Daily_Exits_abs'] = turnstiles_df['Daily_Exits'].abs()"
   ]
  },
  {
   "cell_type": "code",
   "execution_count": 21,
   "metadata": {},
   "outputs": [
    {
     "ename": "NameError",
     "evalue": "name 'stations' is not defined",
     "output_type": "error",
     "traceback": [
      "\u001b[0;31m---------------------------------------------------------------------------\u001b[0m",
      "\u001b[0;31mNameError\u001b[0m                                 Traceback (most recent call last)",
      "\u001b[0;32m<ipython-input-21-621ac59af834>\u001b[0m in \u001b[0;36m<module>\u001b[0;34m()\u001b[0m\n\u001b[0;32m----> 1\u001b[0;31m \u001b[0mstations\u001b[0m\u001b[0;34m\u001b[0m\u001b[0m\n\u001b[0m",
      "\u001b[0;31mNameError\u001b[0m: name 'stations' is not defined"
     ]
    }
   ],
   "source": [
    "stations"
   ]
  },
  {
   "cell_type": "code",
   "execution_count": 22,
   "metadata": {},
   "outputs": [
    {
     "ename": "NameError",
     "evalue": "name 'output_file' is not defined",
     "output_type": "error",
     "traceback": [
      "\u001b[0;31m---------------------------------------------------------------------------\u001b[0m",
      "\u001b[0;31mNameError\u001b[0m                                 Traceback (most recent call last)",
      "\u001b[0;32m<ipython-input-22-02aec4da2188>\u001b[0m in \u001b[0;36m<module>\u001b[0;34m()\u001b[0m\n\u001b[1;32m      2\u001b[0m \u001b[0;34m\u001b[0m\u001b[0m\n\u001b[1;32m      3\u001b[0m \u001b[0;34m\u001b[0m\u001b[0m\n\u001b[0;32m----> 4\u001b[0;31m \u001b[0moutput_file\u001b[0m\u001b[0;34m(\u001b[0m\u001b[0;34m\"categorical_scatter_jitter.html\"\u001b[0m\u001b[0;34m)\u001b[0m\u001b[0;34m\u001b[0m\u001b[0m\n\u001b[0m\u001b[1;32m      5\u001b[0m \u001b[0;34m\u001b[0m\u001b[0m\n\u001b[1;32m      6\u001b[0m \u001b[0mstations\u001b[0m \u001b[0;34m=\u001b[0m \u001b[0mlist\u001b[0m\u001b[0;34m(\u001b[0m\u001b[0mturnstiles_df\u001b[0m\u001b[0;34m[\u001b[0m\u001b[0;34m'STATION'\u001b[0m\u001b[0;34m]\u001b[0m\u001b[0;34m.\u001b[0m\u001b[0munique\u001b[0m\u001b[0;34m(\u001b[0m\u001b[0;34m)\u001b[0m\u001b[0;34m)\u001b[0m\u001b[0;34m\u001b[0m\u001b[0m\n",
      "\u001b[0;31mNameError\u001b[0m: name 'output_file' is not defined"
     ]
    }
   ],
   "source": [
    "from bokeh.transform import jitter\n",
    "\n",
    "\n",
    "output_file(\"categorical_scatter_jitter.html\")\n",
    "\n",
    "stations = list(turnstiles_df['STATION'].unique())\n",
    "\n",
    "source = ColumnDataSource(turnstiles_df)\n",
    "\n",
    "p = figure(plot_width=1000, plot_height=600, y_range=stations, \n",
    "           title=\"Time Period Entries by Station\")\n",
    "\n",
    "p.circle(x='Daily_Entries_abs', y=jitter('STATION', width=0.6, range=p.y_range),  source=source, alpha=0.6)\n",
    "\n",
    "p.title.text_font_size='20pt'\n",
    "p.title.text_font_style='bold'\n",
    "\n",
    "p.yaxis.axis_label='Station'\n",
    "p.yaxis.axis_label_standoff=20\n",
    "p.yaxis.axis_label_text_font_size='15pt'\n",
    "p.yaxis.major_label_text_font_size='13pt'\n",
    "\n",
    "p.xaxis.axis_label='Number of Commuters'\n",
    "p.xaxis.axis_label_standoff=20\n",
    "p.xaxis.axis_label_text_font_size='15pt'\n",
    "p.xaxis[0].formatter = NumeralTickFormatter(format=\"0.0a\")\n",
    "p.xaxis.major_label_text_font_size='13pt'\n",
    "\n",
    "show(p)"
   ]
  },
  {
   "cell_type": "code",
   "execution_count": null,
   "metadata": {},
   "outputs": [],
   "source": [
    "#remove large numbers\n",
    "\n",
    "def replace(group):\n",
    "    upper = 100000\n",
    "    outliers = group > upper\n",
    "    group[outliers] = np.nan  \n",
    "    return group\n",
    "\n",
    "turnstiles_df['Daily_Entries_abs'] = turnstiles_df['Daily_Entries_abs'].transform(replace)\n",
    "turnstiles_df['Daily_Exits_abs'] = turnstiles_df['Daily_Exits_abs'].transform(replace)"
   ]
  },
  {
   "cell_type": "code",
   "execution_count": null,
   "metadata": {},
   "outputs": [],
   "source": [
    "# Replace any na's with data point before\n",
    "\n",
    "turnstiles_df['Daily_Entries_abs'].fillna(method='ffill', inplace=True)\n",
    "turnstiles_df['Daily_Exits_abs'].fillna(method='ffill', inplace=True)\n",
    "\n",
    "turnstiles_df['Daily_Entries_abs'].fillna(method='bfill', inplace=True)\n",
    "turnstiles_df['Daily_Exits_abs'].fillna(method='bfill', inplace=True)"
   ]
  },
  {
   "cell_type": "code",
   "execution_count": null,
   "metadata": {},
   "outputs": [],
   "source": [
    "from bokeh.transform import jitter\n",
    "\n",
    "\n",
    "output_file(\"categorical_scatter_jitter.html\")\n",
    "\n",
    "stations = list(turnstiles_df['STATION'].unique())\n",
    "\n",
    "source = ColumnDataSource(turnstiles_df)\n",
    "\n",
    "p = figure(plot_width=1000, plot_height=600, y_range=stations, \n",
    "           title=\"Time Period Entries by Station\")\n",
    "\n",
    "p.circle(x='Daily_Entries_abs', y=jitter('STATION', width=0.6, range=p.y_range),  source=source, alpha=0.6)\n",
    "\n",
    "p.title.text_font_size='20pt'\n",
    "p.title.text_font_style='bold'\n",
    "\n",
    "p.yaxis.axis_label='Station'\n",
    "p.yaxis.axis_label_standoff=20\n",
    "p.yaxis.axis_label_text_font_size='15pt'\n",
    "p.yaxis.major_label_text_font_size='13pt'\n",
    "\n",
    "p.xaxis.axis_label='Number of Commuters'\n",
    "p.xaxis.axis_label_standoff=20\n",
    "p.xaxis.axis_label_text_font_size='15pt'\n",
    "p.xaxis[0].formatter = NumeralTickFormatter(format=\"0.0a\")\n",
    "p.xaxis.major_label_text_font_size='13pt'\n",
    "\n",
    "show(p)"
   ]
  },
  {
   "cell_type": "code",
   "execution_count": null,
   "metadata": {},
   "outputs": [],
   "source": [
    "# Create combined entries and exits column\n",
    "\n",
    "turnstiles_df['Combined_Traffic'] = turnstiles_df['Daily_Entries_abs'] + turnstiles_df['Daily_Exits_abs']\n",
    "\n",
    "turnstiles_df['Combined_Traffic'] = turnstiles_df['Combined_Traffic'].astype(int)"
   ]
  },
  {
   "cell_type": "code",
   "execution_count": null,
   "metadata": {},
   "outputs": [],
   "source": [
    "# Group by station and datetime\n",
    "\n",
    "timesquare_stations = \\\n",
    "            (turnstiles_df.groupby(['STATION','DATE','weeknum', 'daynum','TIME'])[['Combined_Traffic']]\n",
    "             .sum()\n",
    "             .reset_index())   #retains row label"
   ]
  },
  {
   "cell_type": "code",
   "execution_count": null,
   "metadata": {},
   "outputs": [],
   "source": [
    "# Remove any large numbers that don't make sense\n",
    "\n",
    "timesquare_stations['Combined_Traffic'] = timesquare_stations['Combined_Traffic'].transform(replace)\n",
    "timesquare_stations['Combined_Traffic'].fillna(method='ffill', inplace=True)\n",
    "timesquare_stations['Combined_Traffic'].fillna(method='bfill', inplace=True)\n",
    "\n",
    "timesquare_stations['Combined_Traffic'] = timesquare_stations['Combined_Traffic'].astype(int)"
   ]
  },
  {
   "cell_type": "code",
   "execution_count": null,
   "metadata": {},
   "outputs": [],
   "source": [
    "# Create table with total traffic for each station\n",
    "\n",
    "top_stations = \\\n",
    "            (timesquare_stations.groupby(['STATION'])[['Combined_Traffic']]\n",
    "             .sum()\n",
    "             .reset_index())   #retains row label"
   ]
  },
  {
   "cell_type": "code",
   "execution_count": null,
   "metadata": {},
   "outputs": [],
   "source": [
    "# Create graph to show which stations are the most trafficked\n",
    "\n",
    "from bokeh.io import show, output_file\n",
    "from bokeh.models import ColumnDataSource\n",
    "from bokeh.palettes import Spectral6\n",
    "from bokeh.plotting import figure\n",
    "from bokeh.transform import factor_cmap\n",
    "from bokeh.models import NumeralTickFormatter\n",
    "\n",
    "output_file(\"topstations.html\")\n",
    "\n",
    "stations = top_stations['STATION'].tolist()\n",
    "\n",
    "p = figure(x_range=stations, plot_height=600, plot_width=1000, title=\"Traffic Volume at 42nd St Stations\",\n",
    "           toolbar_location=None, tools=\"\")\n",
    "\n",
    "\n",
    "p.vbar(x=stations, top=top_stations['Combined_Traffic'], width=0.5, fill_color='green', fill_alpha=0.5)\n",
    "\n",
    "p.xgrid.grid_line_color = None\n",
    "p.y_range.start = 0\n",
    "p.title.text_color='olive'\n",
    "p.title.text_font_size='20pt'\n",
    "p.title.text_font_style='bold'\n",
    "\n",
    "p.xaxis.axis_label='Station'\n",
    "p.xaxis.axis_label_text_color='olive'\n",
    "p.xaxis.axis_label_standoff=20\n",
    "p.xaxis.axis_label_text_font_size='15pt'\n",
    "p.xaxis.major_label_text_font_size='13pt'\n",
    "\n",
    "p.yaxis.axis_label='Number of Commuters'\n",
    "p.yaxis.axis_label_text_color='olive'\n",
    "p.yaxis.axis_label_standoff=20\n",
    "p.yaxis.axis_label_text_font_size='15pt'\n",
    "p.yaxis[0].formatter = NumeralTickFormatter(format=\"0.0a\")\n",
    "p.yaxis.major_label_text_font_size='13pt'\n",
    "\n",
    "show(p)\n"
   ]
  },
  {
   "cell_type": "code",
   "execution_count": null,
   "metadata": {},
   "outputs": [],
   "source": [
    "# Create table with just grand central, the most trafficked station\n",
    "\n",
    "grandcentral = timesquare_stations[timesquare_stations['STATION'] == 'GRD CNTRL-42 ST']"
   ]
  },
  {
   "cell_type": "code",
   "execution_count": null,
   "metadata": {},
   "outputs": [],
   "source": [
    "# Create table by day of week for grand central\n",
    "\n",
    "grandcentral_by_day = \\\n",
    "            (grandcentral.groupby(['STATION','daynum'])[['Combined_Traffic']]\n",
    "             .sum()\n",
    "             .reset_index()) "
   ]
  },
  {
   "cell_type": "code",
   "execution_count": null,
   "metadata": {},
   "outputs": [],
   "source": [
    "# Make graph to show which days of the week are most used\n",
    "\n",
    "from bokeh.io import show, output_file\n",
    "from bokeh.models import ColumnDataSource\n",
    "from bokeh.palettes import Spectral6\n",
    "from bokeh.plotting import figure\n",
    "from bokeh.transform import factor_cmap\n",
    "from bokeh.models import NumeralTickFormatter\n",
    "\n",
    "output_file(\"grandcentral_byday.html\")\n",
    "\n",
    "days = grandcentral_by_day['daynum'].tolist()\n",
    "weekdays = dict([(0,'Monday'), (1,'Tuesday'), (2,'Wednesday'), (3,'Thursday'), (4,'Friday'), (5,'Saturday'), (6,'Sunday')])\n",
    "\n",
    "p = figure(plot_height=600, plot_width=1000, title=\"Traffic Volume at Grand Central\",\n",
    "           toolbar_location=None, tools=\"\")\n",
    "\n",
    "\n",
    "p.line(x=days, y=grandcentral_by_day['Combined_Traffic'], line_width=4, color='green')\n",
    "\n",
    "p.xgrid.grid_line_color = None\n",
    "p.y_range.start = 0\n",
    "p.title.text_color='olive'\n",
    "p.title.text_font_size='20pt'\n",
    "p.title.text_font_style='bold'\n",
    "\n",
    "p.xaxis.axis_label='Day of Week'\n",
    "p.xaxis.axis_label_text_color='olive'\n",
    "p.xaxis.axis_label_standoff=20\n",
    "p.xaxis.axis_label_text_font_size='15pt'\n",
    "p.xaxis.major_label_text_font_size='13pt'\n",
    "p.xaxis.major_label_overrides=weekdays\n",
    "\n",
    "p.yaxis.axis_label='Number of Commuters'\n",
    "p.yaxis.axis_label_text_color='olive'\n",
    "p.yaxis.axis_label_standoff=20\n",
    "p.yaxis.axis_label_text_font_size='15pt'\n",
    "p.yaxis[0].formatter = NumeralTickFormatter(format=\"0.0a\")\n",
    "p.yaxis.major_label_text_font_size='13pt'\n",
    "\n",
    "show(p)\n",
    "\n",
    "\n",
    "#fig, ax = plt.subplots()\n",
    "#for name, group in grandcentral_by_day.groupby(['weeknum']):\n",
    "#    group.plot('daynum', y='Combined_Traffic', ax=ax, label=name)\n"
   ]
  },
  {
   "cell_type": "code",
   "execution_count": null,
   "metadata": {},
   "outputs": [],
   "source": [
    "# Filter for only the weekdays\n",
    "\n",
    "grandcentral_weekdays = grandcentral[grandcentral['daynum'] != 5]\n",
    "grandcentral_weekdays = grandcentral_weekdays[grandcentral_weekdays['daynum'] != 6]"
   ]
  },
  {
   "cell_type": "code",
   "execution_count": null,
   "metadata": {},
   "outputs": [],
   "source": [
    "# Pull the hour from the time field\n",
    "\n",
    "grandcentral_weekdays['TIME'] = pd.to_datetime(grandcentral_weekdays['TIME'], format='%H:%M:%S').dt.hour"
   ]
  },
  {
   "cell_type": "code",
   "execution_count": null,
   "metadata": {},
   "outputs": [],
   "source": [
    "# Create buckets for each hour\n",
    "\n",
    "bins = [-1, 3, 7, 11, 15, 19, 23]\n",
    "\n",
    "grandcentral_weekdays['TimeBucket'] = pd.cut(grandcentral_weekdays['TIME'], bins)\n",
    "\n",
    "grandcentral_weekdays['TimeBucket'] = grandcentral_weekdays['TimeBucket'].astype(str)"
   ]
  },
  {
   "cell_type": "code",
   "execution_count": null,
   "metadata": {},
   "outputs": [],
   "source": [
    "# Convert intervals to more usable number\n",
    "\n",
    "timebucketindex = pd.DataFrame([['(-1, 3]',0], ['(3, 7]',1], ['(7, 11]',2], \\\n",
    "                    ['(11, 15]',3], ['(15, 19]',4], ['(19, 23]',5]], columns=['TimeBucket','TimeBucketIndex'])\n",
    "\n",
    "grandcentral_weekdays = pd.merge(grandcentral_weekdays,timebucketindex,on='TimeBucket')"
   ]
  },
  {
   "cell_type": "code",
   "execution_count": null,
   "metadata": {},
   "outputs": [],
   "source": [
    "#Create table grouped by time bucket\n",
    "\n",
    "grandcentral_weekdays_bytime = \\\n",
    "            (grandcentral_weekdays.groupby(['STATION','TimeBucketIndex'])[['Combined_Traffic']]\n",
    "             .sum()\n",
    "             .reset_index()) "
   ]
  },
  {
   "cell_type": "code",
   "execution_count": null,
   "metadata": {},
   "outputs": [],
   "source": [
    "# Create graph that shows which time periods are most trafficked\n",
    "\n",
    "from bokeh.io import show, output_file\n",
    "from bokeh.models import ColumnDataSource\n",
    "from bokeh.palettes import Spectral6\n",
    "from bokeh.plotting import figure\n",
    "from bokeh.transform import factor_cmap\n",
    "from bokeh.models import NumeralTickFormatter\n",
    "\n",
    "output_file(\"grandcentral_weekday_bytime2.html\")\n",
    "\n",
    "times = grandcentral_weekdays_bytime['TimeBucketIndex'].tolist()\n",
    "\n",
    "timeperiods = dict([(0,'8pm - 12am'), (1,'12am - 4am'), (2,'4am - 8am'), \\\n",
    "                    (3,'8am - 12pm'), (4,'12pm - 4pm'), (5,'4pm - 8pm')])\n",
    "\n",
    "p = figure(plot_height=600, plot_width=1000, title=\"Traffic Volume at Grand Central By Time of Day\",\n",
    "           toolbar_location=None, tools=\"\")\n",
    "\n",
    "\n",
    "p.line(x=times, y=grandcentral_weekdays_bytime['Combined_Traffic'], line_width=4, color='green')\n",
    "\n",
    "p.xgrid.grid_line_color = None\n",
    "p.y_range.start = 0\n",
    "p.title.text_color='olive'\n",
    "p.title.text_font_size='20pt'\n",
    "p.title.text_font_style='bold'\n",
    "\n",
    "p.xaxis.axis_label='Time of Day'\n",
    "p.xaxis.axis_label_text_color='olive'\n",
    "p.xaxis.axis_label_standoff=20\n",
    "p.xaxis.axis_label_text_font_size='15pt'\n",
    "p.xaxis.major_label_text_font_size='13pt'\n",
    "p.xaxis.major_label_overrides=timeperiods\n",
    "\n",
    "p.yaxis.axis_label='Number of Commuters'\n",
    "p.yaxis.axis_label_text_color='olive'\n",
    "p.yaxis.axis_label_standoff=20\n",
    "p.yaxis.axis_label_text_font_size='15pt'\n",
    "p.yaxis[0].formatter = NumeralTickFormatter(format=\"0.0a\")\n",
    "p.yaxis.major_label_text_font_size='13pt'\n",
    "\n",
    "show(p)"
   ]
  },
  {
   "cell_type": "code",
   "execution_count": null,
   "metadata": {},
   "outputs": [],
   "source": [
    "# Filter for turnstiles within grand central\n",
    "\n",
    "grandcentral_turnstile = turnstiles_df[turnstiles_df['STATION'] == 'GRD CNTRL-42 ST']"
   ]
  },
  {
   "cell_type": "code",
   "execution_count": null,
   "metadata": {},
   "outputs": [],
   "source": [
    "# Group up to the control area\n",
    "\n",
    "grandcentral_turnstile2 = \\\n",
    "            (grandcentral_turnstile.groupby(['STATION','C/A','daynum','TIME'])[['Combined_Traffic']]\n",
    "             .sum()\n",
    "             .reset_index())   #retains row label"
   ]
  },
  {
   "cell_type": "code",
   "execution_count": null,
   "metadata": {},
   "outputs": [],
   "source": [
    "# Filter for weekdays\n",
    "\n",
    "grandcentral_turnstile_weekdays = grandcentral_turnstile2[grandcentral_turnstile2['daynum'] != 5]\n",
    "grandcentral_turnstile_weekdays = grandcentral_turnstile_weekdays[grandcentral_turnstile_weekdays['daynum'] != 6]"
   ]
  },
  {
   "cell_type": "code",
   "execution_count": null,
   "metadata": {},
   "outputs": [],
   "source": [
    "# Create table for control area by time\n",
    "\n",
    "grandcentral_turnstile_wd_bytime = \\\n",
    "            (grandcentral_turnstile_weekdays.groupby(['STATION','C/A','TIME'])[['Combined_Traffic']]\n",
    "             .sum()\n",
    "             .reset_index())   #retains row label"
   ]
  },
  {
   "cell_type": "code",
   "execution_count": null,
   "metadata": {},
   "outputs": [],
   "source": [
    "# Create time buckets\n",
    "\n",
    "grandcentral_turnstile_wd_bytime['TIME'] = pd.to_datetime(grandcentral_turnstile_wd_bytime['TIME'], format='%H:%M:%S').dt.hour\n",
    "\n",
    "grandcentral_turnstile_wd_bytime['TimeBucket'] = pd.cut(grandcentral_turnstile_wd_bytime['TIME'], bins)\n",
    "grandcentral_turnstile_wd_bytime['TimeBucket'] = grandcentral_turnstile_wd_bytime['TimeBucket'].astype(str)\n",
    "\n",
    "grandcentral_turnstile_wd_bytime = pd.merge(grandcentral_turnstile_wd_bytime,timebucketindex,on='TimeBucket')"
   ]
  },
  {
   "cell_type": "code",
   "execution_count": null,
   "metadata": {},
   "outputs": [],
   "source": [
    "# Create readable labels for each time bucket\n",
    "\n",
    "test = grandcentral_turnstile_wd_bytime.drop(columns=['STATION', 'TIME', 'TimeBucket'])\n",
    "\n",
    "test['TimeBucketIndex'] = test['TimeBucketIndex'].astype(str)\n",
    "\n",
    "timeperiods2 = dict([('0','8pm - 12am'), ('1','12am - 4am'), ('2','4am - 8am'), \\\n",
    "                    ('3','8am - 12pm'), ('4','12pm - 4pm'), ('5','4pm - 8pm')])\n",
    "\n",
    "test = test.replace({'TimeBucketIndex': timeperiods2})"
   ]
  },
  {
   "cell_type": "code",
   "execution_count": null,
   "metadata": {},
   "outputs": [],
   "source": [
    "# Create pivot table to be used in heat map creation\n",
    "\n",
    "df = test.pivot_table(index='C/A', columns='TimeBucketIndex', values='Combined_Traffic')\n",
    "\n",
    "cols = df.columns.tolist()\n",
    "cols = [cols[5]] + [cols[0]] + [cols[2]] + [cols[4]] + [cols[1]] + [cols[3]]\n",
    "df = df[cols]"
   ]
  },
  {
   "cell_type": "code",
   "execution_count": null,
   "metadata": {},
   "outputs": [],
   "source": [
    "# Create heat map of control area by time\n",
    "\n",
    "from bokeh.models import BasicTicker, ColorBar, ColumnDataSource, LinearColorMapper, PrintfTickFormatter\n",
    "from bokeh.transform import transform\n",
    "\n",
    "\n",
    "source = ColumnDataSource(test)\n",
    "\n",
    "colors = [\"#75968f\", \"#a5bab7\", \"#c9d9d3\", \"#e2e2e2\", \"#dfccce\", \"#ddb7b1\", \"#cc7878\", \"#933b41\", \"#550b1d\"]\n",
    "mapper = LinearColorMapper(palette=colors, low=test.Combined_Traffic.min(), high=test.Combined_Traffic.max())\n",
    "\n",
    "timeperiods = dict([('0','12am - 4am'), ('1','4am - 8am'), ('2','8am - 12pm'), \\\n",
    "                    ('3','12pm - 4pm'), ('4','4pm - 8pm'), ('5','8pm - 12am')])\n",
    "\n",
    "p = figure(plot_width=1000, plot_height=600, title=\"Traffic Volume at Grand Central By Time of Day By Control Area\",\n",
    "           x_range=list(df.index), y_range=list(df.columns),\n",
    "           toolbar_location=None, tools=\"\", x_axis_location=\"above\")\n",
    "\n",
    "p.rect(x=\"C/A\", y=\"TimeBucketIndex\", width=1, height=1, source=source,\n",
    "       line_color=None, fill_color=transform('Combined_Traffic', mapper))\n",
    "\n",
    "color_bar = ColorBar(color_mapper=mapper, location=(0, 0),\n",
    "                     ticker=BasicTicker(desired_num_ticks=len(colors)),\n",
    "                     label_standoff=12,\n",
    "                     formatter=NumeralTickFormatter(format=\"0.0a\"))\n",
    "\n",
    "p.add_layout(color_bar, 'right')\n",
    "\n",
    "p.axis.axis_line_color = None\n",
    "p.axis.major_tick_line_color = None\n",
    "p.axis.major_label_text_font_size = \"13pt\"\n",
    "p.axis.major_label_standoff = 0\n",
    "#p.xaxis.major_label_orientation = 1.0\n",
    "p.yaxis.major_label_overrides = timeperiods2\n",
    "p.yaxis.axis_label='Time of Day'\n",
    "p.yaxis.axis_label_text_font_size='15pt'\n",
    "p.xaxis.axis_label='Control Unit'\n",
    "p.xaxis.axis_label_text_font_size='15pt'\n",
    "p.title.text_font_size='20pt'\n",
    "\n",
    "show(p)"
   ]
  },
  {
   "cell_type": "code",
   "execution_count": null,
   "metadata": {},
   "outputs": [],
   "source": []
  }
 ],
 "metadata": {
  "kernelspec": {
   "display_name": "Python 3",
   "language": "python",
   "name": "python3"
  },
  "language_info": {
   "codemirror_mode": {
    "name": "ipython",
    "version": 3
   },
   "file_extension": ".py",
   "mimetype": "text/x-python",
   "name": "python",
   "nbconvert_exporter": "python",
   "pygments_lexer": "ipython3",
   "version": "3.6.6"
  }
 },
 "nbformat": 4,
 "nbformat_minor": 2
}
